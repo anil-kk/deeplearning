{
  "nbformat": 4,
  "nbformat_minor": 0,
  "metadata": {
    "colab": {
      "name": "PyTorch Fashion NN.ipynb",
      "version": "0.3.2",
      "provenance": [],
      "include_colab_link": true
    },
    "kernelspec": {
      "name": "python3",
      "display_name": "Python 3"
    },
    "accelerator": "GPU"
  },
  "cells": [
    {
      "cell_type": "markdown",
      "metadata": {
        "id": "view-in-github",
        "colab_type": "text"
      },
      "source": [
        "<a href=\"https://colab.research.google.com/github/anil-kk/deeplearning/blob/master/PyTorch_Fashion_NN.ipynb\" target=\"_parent\"><img src=\"https://colab.research.google.com/assets/colab-badge.svg\" alt=\"Open In Colab\"/></a>"
      ]
    },
    {
      "metadata": {
        "id": "-xreKRXNyxOB",
        "colab_type": "code",
        "colab": {
          "base_uri": "https://localhost:8080/",
          "height": 248
        },
        "outputId": "20b0e5b0-60ae-4b85-e54d-a3b9bfeecdd4"
      },
      "cell_type": "code",
      "source": [
        "import torch\n",
        "from torch import nn, optim\n",
        "import torch.nn.functional as F\n",
        "from torchvision import datasets, transforms\n",
        "\n",
        "class Classify(nn.Module):\n",
        "  def __init__(self):\n",
        "    super().__init__()\n",
        "    self.fc1 = nn.Linear(784, 256) # 256 nodes\n",
        "    self.fc2 = nn.Linear(256, 128)\n",
        "    self.fc3 = nn.Linear(128, 64)\n",
        "    self.fc4 = nn.Linear(64, 10)\n",
        "\n",
        "  def forward(self, x):\n",
        "    \n",
        "    x = x.view(x.shape[0], -1) # flatten input tensor, batch size is first parameter to view method\n",
        "    \n",
        "    x = F.relu(self.fc1(x)) # ReLU activation function\n",
        "    x = F.relu(self.fc2(x))\n",
        "    x = F.relu(self.fc3(x))\n",
        "    x = F.log_softmax(self.fc4(x), dim=1) # across columns\n",
        "    \n",
        "    return x\n",
        "  \n",
        "#Neural Network\n",
        "model = Classify()\n",
        "\n",
        "#define criterion and optimizer\n",
        "criterion = nn.NLLLoss() # Negative Log Likelihood Loss\n",
        "optimizer = optim.Adam(model.parameters(), lr=0.004) #momentum, speeds up fitting process, adjusts learning rate to individual parameters\n",
        "\n",
        "\n",
        "# transform to normalize the data\n",
        "transform = transforms.Compose([transforms.ToTensor(),\n",
        "                                transforms.Normalize((0.5, 0.5, 0.5), (0.5, 0.5, 0.5)),\n",
        "                              ])\n",
        "# download and load training data\n",
        "trainset = datasets.FashionMNIST('~/.pytorch/Fashion_MNIST_data/', download=True, train=True, transform=transform)\n",
        "train_loader = torch.utils.data.DataLoader(trainset, batch_size=64, shuffle=True)\n",
        "\n",
        "testset = datasets.FashionMNIST('~/.pytorch/Fashion_MNIST_data/', download=True, train=False, transform=transform)\n",
        "test_loader = torch.utils.data.DataLoader(testset, batch_size=64, shuffle=True)\n",
        "\n",
        "image, label = next(iter(train_loader))\n",
        "helper.imshow(image[0,:]);\n",
        "      \n",
        "\n",
        "  "
      ],
      "execution_count": 10,
      "outputs": [
        {
          "output_type": "display_data",
          "data": {
            "image/png": "[encoded data removed]",
            "text/plain": [
              "<matplotlib.figure.Figure at 0x7fafc3536630>"
            ]
          },
          "metadata": {
            "tags": [],
            "image/png": {
              "width": 231,
              "height": 231
            }
          }
        }
      ]
    },
    {
      "metadata": {
        "id": "OU2Twy-7NE6F",
        "colab_type": "code",
        "colab": {
          "base_uri": "https://localhost:8080/",
          "height": 102
        },
        "outputId": "b33009e6-a123-4b10-8f4b-7e71f1f11f13"
      },
      "cell_type": "code",
      "source": [
        "#TRAIN\n",
        "epochs = 5\n",
        "\n",
        "for e in range(epochs):\n",
        "  loss_accum = 0\n",
        "  for images, labels in train_loader:\n",
        "    \n",
        "    log_probabilities = model(images) # forward\n",
        "    loss = criterion(log_probabilities, labels)\n",
        "    \n",
        "    optimizer.zero_grad()\n",
        "    loss.backward()#backward\n",
        "    optimizer.step()\n",
        "    \n",
        "    loss_accum += loss.item()\n",
        "  else:\n",
        "      print(f\"Training loss: {loss_accum}\")\n",
        "      "
      ],
      "execution_count": 11,
      "outputs": [
        {
          "output_type": "stream",
          "text": [
            "Training loss: 484.599537268281\n",
            "Training loss: 377.89519622921944\n",
            "Training loss: 345.98354372382164\n",
            "Training loss: 321.99300480633974\n",
            "Training loss: 306.682968724519\n"
          ],
          "name": "stdout"
        }
      ]
    },
    {
      "metadata": {
        "id": "su-7JNcQ72yq",
        "colab_type": "code",
        "colab": {
          "base_uri": "https://localhost:8080/",
          "height": 227
        },
        "outputId": "25230672-9832-4128-b355-2ed1d50ab71a"
      },
      "cell_type": "code",
      "source": [
        "   #TEST   \n",
        "      \n",
        "%matplotlib inline\n",
        "%config InlineBackend.figure_format ='retina'\n",
        "\n",
        "import helper\n",
        "\n",
        "data_iter = iter(test_loader)\n",
        "\n",
        "images, labels = data_iter.next()\n",
        "\n",
        "img = images[1]\n",
        "\n",
        "probabilities = torch.exp(model(img))\n",
        "\n",
        "helper.view_classify(img, probabilities, version='Fashion')"
      ],
      "execution_count": 16,
      "outputs": [
        {
          "output_type": "display_data",
          "data": {
            "image/png": "[encoded data removed]",
            "text/plain": [
              "<matplotlib.figure.Figure at 0x7fafc6a93f98>"
            ]
          },
          "metadata": {
            "tags": [],
            "image/png": {
              "width": 424,
              "height": 210
            }
          }
        }
      ]
    }
  ]
}